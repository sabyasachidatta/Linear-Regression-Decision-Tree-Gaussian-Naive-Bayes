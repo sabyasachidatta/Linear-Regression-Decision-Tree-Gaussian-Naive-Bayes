{
  "nbformat": 4,
  "nbformat_minor": 0,
  "metadata": {
    "colab": {
      "name": "Q1_SabyasachiDattaOPD20009.ipynb",
      "provenance": []
    },
    "kernelspec": {
      "name": "python3",
      "display_name": "Python 3"
    },
    "language_info": {
      "name": "python"
    }
  },
  "cells": [
    {
      "cell_type": "markdown",
      "metadata": {
        "id": "CaO3x4b6VelV"
      },
      "source": [
        "**1. Linear Regression**\n",
        "\n",
        "Download the datasets Dataset 1 (README). \n",
        "\n",
        "Perform Linear Regression on the given dataset. Also perform K-Fold cross-validation in this exercise.\n",
        "\n",
        "**Analysis to be included in your report:**\n",
        "\n",
        "(a) Choose an appropriate value of K and justify it in your report along with the preprocessing strategy.\n",
        "\n",
        "(b) Include plots between training loss v/s iterations and validation loss v/s iterations.\n",
        "\n",
        "(c) Implement gradient descent using two losses - RMSE loss and MAE loss. Include the best RMSE and MAE value achieved in your report. "
      ]
    },
    {
      "cell_type": "markdown",
      "metadata": {
        "id": "1hwenpMsWQj2"
      },
      "source": [
        "**Preparations and EDA**\n",
        "\n",
        "Importing data science packages and checking what files there are in the dataset"
      ]
    },
    {
      "cell_type": "code",
      "metadata": {
        "id": "LBF5ir7-UkrW"
      },
      "source": [
        "import numpy as np # linear algebra\n",
        "import pandas as pd # data processing, CSV file I/O (e.g. pd.read_csv)"
      ],
      "execution_count": 50,
      "outputs": []
    },
    {
      "cell_type": "markdown",
      "metadata": {
        "id": "EYYVe9nQWnUK"
      },
      "source": [
        "Setting visualisation parameters"
      ]
    },
    {
      "cell_type": "code",
      "metadata": {
        "colab": {
          "base_uri": "https://localhost:8080/"
        },
        "id": "UA5UOCnOWoJD",
        "outputId": "dbd039b7-8ad5-455f-ed81-5ae6f449231b"
      },
      "source": [
        "# No warnings about setting value on copy of slice\n",
        "pd.options.mode.chained_assignment = None\n",
        "pd.set_option('display.max_columns', None)  \n",
        "pd.set_option('display.expand_frame_repr', False)\n",
        "pd.set_option('max_colwidth', -1)\n",
        "\n",
        "# Matplotlib visualization\n",
        "import matplotlib.pyplot as plt\n",
        "%matplotlib inline\n",
        "plt.style.use(\"fivethirtyeight\")\n",
        "\n",
        "# Set default font size and facecolor\n",
        "plt.rcParams[\"font.size\"] = 24\n",
        "plt.rcParams[\"figure.facecolor\"] = \"white\"\n",
        "plt.rcParams[\"axes.facecolor\"] = \"white\"\n",
        "\n",
        "# Internal ipython tool for setting figure size\n",
        "from IPython.core.pylabtools import figsize\n",
        "figsize(15, 12)\n",
        "\n",
        "# Seaborn for visualization\n",
        "import seaborn as sns"
      ],
      "execution_count": 51,
      "outputs": [
        {
          "output_type": "stream",
          "text": [
            "/usr/local/lib/python3.7/dist-packages/ipykernel_launcher.py:5: FutureWarning: Passing a negative integer is deprecated in version 1.0 and will not be supported in future version. Instead, use None to not limit the column width.\n",
            "  \"\"\"\n"
          ],
          "name": "stderr"
        }
      ]
    },
    {
      "cell_type": "markdown",
      "metadata": {
        "id": "ENuZyDE6W6-o"
      },
      "source": [
        "Reading and exploring data"
      ]
    },
    {
      "cell_type": "code",
      "metadata": {
        "colab": {
          "base_uri": "https://localhost:8080/"
        },
        "id": "eKW7n2OgW7ri",
        "outputId": "906ff0db-830f-47f0-9cc3-2a259259cc5b"
      },
      "source": [
        "data = pd.read_csv(\"/content/Video_Games_Sales_as_at_22_Dec_2016.csv\")\n",
        "data.info()"
      ],
      "execution_count": 52,
      "outputs": [
        {
          "output_type": "stream",
          "text": [
            "<class 'pandas.core.frame.DataFrame'>\n",
            "RangeIndex: 16719 entries, 0 to 16718\n",
            "Data columns (total 16 columns):\n",
            " #   Column           Non-Null Count  Dtype  \n",
            "---  ------           --------------  -----  \n",
            " 0   Name             16717 non-null  object \n",
            " 1   Platform         16719 non-null  object \n",
            " 2   Year_of_Release  16450 non-null  float64\n",
            " 3   Genre            16717 non-null  object \n",
            " 4   Publisher        16665 non-null  object \n",
            " 5   NA_Sales         16719 non-null  float64\n",
            " 6   EU_Sales         16719 non-null  float64\n",
            " 7   JP_Sales         16719 non-null  float64\n",
            " 8   Other_Sales      16719 non-null  float64\n",
            " 9   Global_Sales     16719 non-null  float64\n",
            " 10  Critic_Score     8137 non-null   float64\n",
            " 11  Critic_Count     8137 non-null   float64\n",
            " 12  User_Score       10015 non-null  object \n",
            " 13  User_Count       7590 non-null   float64\n",
            " 14  Developer        10096 non-null  object \n",
            " 15  Rating           9950 non-null   object \n",
            "dtypes: float64(9), object(7)\n",
            "memory usage: 2.0+ MB\n"
          ],
          "name": "stdout"
        }
      ]
    },
    {
      "cell_type": "markdown",
      "metadata": {
        "id": "vBwir373X3JU"
      },
      "source": [
        "There are ~17k games, but some of the data is missing. For instance, only around half of all games has a critic score. This might be a problem for the prediction model, as I was thinking that critic score will be one of the main features. But I will come back to it later. Another issue is that the User_Score column has type object instead of float (like Critic_Score). It means that there are non-numeric values and I'll have to get rid of them.\n",
        "\n",
        "Here I am doing 3 things:\n",
        "\n",
        "1. Renaming columns for ease of use\n",
        "2. Droping games without a year of release or genre\n",
        "3. Creating a new column for age of the game"
      ]
    },
    {
      "cell_type": "code",
      "metadata": {
        "colab": {
          "base_uri": "https://localhost:8080/",
          "height": 460
        },
        "id": "6_WEGYk7YDze",
        "outputId": "a90c6757-3bc2-427c-951a-d114a6bc3a07"
      },
      "source": [
        "data = data.rename(columns={\"Year_of_Release\": \"Year\", \n",
        "                            \"NA_Sales\": \"NA\",\n",
        "                            \"EU_Sales\": \"EU\",\n",
        "                            \"JP_Sales\": \"JP\",\n",
        "                            \"Other_Sales\": \"Other\",\n",
        "                            \"Global_Sales\": \"Global\"})\n",
        "data = data[data[\"Year\"].notnull()]\n",
        "data = data[data[\"Genre\"].notnull()]\n",
        "data[\"Year\"] = data[\"Year\"].apply(int)\n",
        "data[\"Age\"] = 2018 - data[\"Year\"]\n",
        "data.describe(include=\"all\")"
      ],
      "execution_count": 53,
      "outputs": [
        {
          "output_type": "execute_result",
          "data": {
            "text/html": [
              "<div>\n",
              "<style scoped>\n",
              "    .dataframe tbody tr th:only-of-type {\n",
              "        vertical-align: middle;\n",
              "    }\n",
              "\n",
              "    .dataframe tbody tr th {\n",
              "        vertical-align: top;\n",
              "    }\n",
              "\n",
              "    .dataframe thead th {\n",
              "        text-align: right;\n",
              "    }\n",
              "</style>\n",
              "<table border=\"1\" class=\"dataframe\">\n",
              "  <thead>\n",
              "    <tr style=\"text-align: right;\">\n",
              "      <th></th>\n",
              "      <th>Name</th>\n",
              "      <th>Platform</th>\n",
              "      <th>Year</th>\n",
              "      <th>Genre</th>\n",
              "      <th>Publisher</th>\n",
              "      <th>NA</th>\n",
              "      <th>EU</th>\n",
              "      <th>JP</th>\n",
              "      <th>Other</th>\n",
              "      <th>Global</th>\n",
              "      <th>Critic_Score</th>\n",
              "      <th>Critic_Count</th>\n",
              "      <th>User_Score</th>\n",
              "      <th>User_Count</th>\n",
              "      <th>Developer</th>\n",
              "      <th>Rating</th>\n",
              "      <th>Age</th>\n",
              "    </tr>\n",
              "  </thead>\n",
              "  <tbody>\n",
              "    <tr>\n",
              "      <th>count</th>\n",
              "      <td>16448</td>\n",
              "      <td>16448</td>\n",
              "      <td>16448.000000</td>\n",
              "      <td>16448</td>\n",
              "      <td>16416</td>\n",
              "      <td>16448.000000</td>\n",
              "      <td>16448.000000</td>\n",
              "      <td>16448.000000</td>\n",
              "      <td>16448.000000</td>\n",
              "      <td>16448.00000</td>\n",
              "      <td>7983.000000</td>\n",
              "      <td>7983.000000</td>\n",
              "      <td>9840</td>\n",
              "      <td>7463.000000</td>\n",
              "      <td>9907</td>\n",
              "      <td>9769</td>\n",
              "      <td>16448.000000</td>\n",
              "    </tr>\n",
              "    <tr>\n",
              "      <th>unique</th>\n",
              "      <td>11429</td>\n",
              "      <td>31</td>\n",
              "      <td>NaN</td>\n",
              "      <td>12</td>\n",
              "      <td>578</td>\n",
              "      <td>NaN</td>\n",
              "      <td>NaN</td>\n",
              "      <td>NaN</td>\n",
              "      <td>NaN</td>\n",
              "      <td>NaN</td>\n",
              "      <td>NaN</td>\n",
              "      <td>NaN</td>\n",
              "      <td>96</td>\n",
              "      <td>NaN</td>\n",
              "      <td>1680</td>\n",
              "      <td>8</td>\n",
              "      <td>NaN</td>\n",
              "    </tr>\n",
              "    <tr>\n",
              "      <th>top</th>\n",
              "      <td>Need for Speed: Most Wanted</td>\n",
              "      <td>PS2</td>\n",
              "      <td>NaN</td>\n",
              "      <td>Action</td>\n",
              "      <td>Electronic Arts</td>\n",
              "      <td>NaN</td>\n",
              "      <td>NaN</td>\n",
              "      <td>NaN</td>\n",
              "      <td>NaN</td>\n",
              "      <td>NaN</td>\n",
              "      <td>NaN</td>\n",
              "      <td>NaN</td>\n",
              "      <td>tbd</td>\n",
              "      <td>NaN</td>\n",
              "      <td>Ubisoft</td>\n",
              "      <td>E</td>\n",
              "      <td>NaN</td>\n",
              "    </tr>\n",
              "    <tr>\n",
              "      <th>freq</th>\n",
              "      <td>12</td>\n",
              "      <td>2127</td>\n",
              "      <td>NaN</td>\n",
              "      <td>3308</td>\n",
              "      <td>1344</td>\n",
              "      <td>NaN</td>\n",
              "      <td>NaN</td>\n",
              "      <td>NaN</td>\n",
              "      <td>NaN</td>\n",
              "      <td>NaN</td>\n",
              "      <td>NaN</td>\n",
              "      <td>NaN</td>\n",
              "      <td>2377</td>\n",
              "      <td>NaN</td>\n",
              "      <td>201</td>\n",
              "      <td>3922</td>\n",
              "      <td>NaN</td>\n",
              "    </tr>\n",
              "    <tr>\n",
              "      <th>mean</th>\n",
              "      <td>NaN</td>\n",
              "      <td>NaN</td>\n",
              "      <td>2006.488996</td>\n",
              "      <td>NaN</td>\n",
              "      <td>NaN</td>\n",
              "      <td>0.263965</td>\n",
              "      <td>0.145895</td>\n",
              "      <td>0.078472</td>\n",
              "      <td>0.047583</td>\n",
              "      <td>0.53617</td>\n",
              "      <td>68.994363</td>\n",
              "      <td>26.441313</td>\n",
              "      <td>NaN</td>\n",
              "      <td>163.015141</td>\n",
              "      <td>NaN</td>\n",
              "      <td>NaN</td>\n",
              "      <td>11.511004</td>\n",
              "    </tr>\n",
              "    <tr>\n",
              "      <th>std</th>\n",
              "      <td>NaN</td>\n",
              "      <td>NaN</td>\n",
              "      <td>5.877470</td>\n",
              "      <td>NaN</td>\n",
              "      <td>NaN</td>\n",
              "      <td>0.818286</td>\n",
              "      <td>0.506660</td>\n",
              "      <td>0.311064</td>\n",
              "      <td>0.187984</td>\n",
              "      <td>1.55846</td>\n",
              "      <td>13.920060</td>\n",
              "      <td>19.008136</td>\n",
              "      <td>NaN</td>\n",
              "      <td>563.863327</td>\n",
              "      <td>NaN</td>\n",
              "      <td>NaN</td>\n",
              "      <td>5.877470</td>\n",
              "    </tr>\n",
              "    <tr>\n",
              "      <th>min</th>\n",
              "      <td>NaN</td>\n",
              "      <td>NaN</td>\n",
              "      <td>1980.000000</td>\n",
              "      <td>NaN</td>\n",
              "      <td>NaN</td>\n",
              "      <td>0.000000</td>\n",
              "      <td>0.000000</td>\n",
              "      <td>0.000000</td>\n",
              "      <td>0.000000</td>\n",
              "      <td>0.01000</td>\n",
              "      <td>13.000000</td>\n",
              "      <td>3.000000</td>\n",
              "      <td>NaN</td>\n",
              "      <td>4.000000</td>\n",
              "      <td>NaN</td>\n",
              "      <td>NaN</td>\n",
              "      <td>-2.000000</td>\n",
              "    </tr>\n",
              "    <tr>\n",
              "      <th>25%</th>\n",
              "      <td>NaN</td>\n",
              "      <td>NaN</td>\n",
              "      <td>2003.000000</td>\n",
              "      <td>NaN</td>\n",
              "      <td>NaN</td>\n",
              "      <td>0.000000</td>\n",
              "      <td>0.000000</td>\n",
              "      <td>0.000000</td>\n",
              "      <td>0.000000</td>\n",
              "      <td>0.06000</td>\n",
              "      <td>60.000000</td>\n",
              "      <td>12.000000</td>\n",
              "      <td>NaN</td>\n",
              "      <td>10.000000</td>\n",
              "      <td>NaN</td>\n",
              "      <td>NaN</td>\n",
              "      <td>8.000000</td>\n",
              "    </tr>\n",
              "    <tr>\n",
              "      <th>50%</th>\n",
              "      <td>NaN</td>\n",
              "      <td>NaN</td>\n",
              "      <td>2007.000000</td>\n",
              "      <td>NaN</td>\n",
              "      <td>NaN</td>\n",
              "      <td>0.080000</td>\n",
              "      <td>0.020000</td>\n",
              "      <td>0.000000</td>\n",
              "      <td>0.010000</td>\n",
              "      <td>0.17000</td>\n",
              "      <td>71.000000</td>\n",
              "      <td>22.000000</td>\n",
              "      <td>NaN</td>\n",
              "      <td>24.000000</td>\n",
              "      <td>NaN</td>\n",
              "      <td>NaN</td>\n",
              "      <td>11.000000</td>\n",
              "    </tr>\n",
              "    <tr>\n",
              "      <th>75%</th>\n",
              "      <td>NaN</td>\n",
              "      <td>NaN</td>\n",
              "      <td>2010.000000</td>\n",
              "      <td>NaN</td>\n",
              "      <td>NaN</td>\n",
              "      <td>0.240000</td>\n",
              "      <td>0.110000</td>\n",
              "      <td>0.040000</td>\n",
              "      <td>0.030000</td>\n",
              "      <td>0.47000</td>\n",
              "      <td>79.000000</td>\n",
              "      <td>36.000000</td>\n",
              "      <td>NaN</td>\n",
              "      <td>81.000000</td>\n",
              "      <td>NaN</td>\n",
              "      <td>NaN</td>\n",
              "      <td>15.000000</td>\n",
              "    </tr>\n",
              "    <tr>\n",
              "      <th>max</th>\n",
              "      <td>NaN</td>\n",
              "      <td>NaN</td>\n",
              "      <td>2020.000000</td>\n",
              "      <td>NaN</td>\n",
              "      <td>NaN</td>\n",
              "      <td>41.360000</td>\n",
              "      <td>28.960000</td>\n",
              "      <td>10.220000</td>\n",
              "      <td>10.570000</td>\n",
              "      <td>82.53000</td>\n",
              "      <td>98.000000</td>\n",
              "      <td>113.000000</td>\n",
              "      <td>NaN</td>\n",
              "      <td>10665.000000</td>\n",
              "      <td>NaN</td>\n",
              "      <td>NaN</td>\n",
              "      <td>38.000000</td>\n",
              "    </tr>\n",
              "  </tbody>\n",
              "</table>\n",
              "</div>"
            ],
            "text/plain": [
              "                               Name Platform          Year   Genre        Publisher            NA            EU            JP         Other       Global  Critic_Score  Critic_Count User_Score    User_Count Developer Rating           Age\n",
              "count   16448                        16448    16448.000000  16448   16416            16448.000000  16448.000000  16448.000000  16448.000000  16448.00000  7983.000000   7983.000000   9840       7463.000000   9907      9769   16448.000000\n",
              "unique  11429                        31      NaN            12      578             NaN           NaN           NaN           NaN           NaN          NaN           NaN            96        NaN            1680      8     NaN          \n",
              "top     Need for Speed: Most Wanted  PS2     NaN            Action  Electronic Arts NaN           NaN           NaN           NaN           NaN          NaN           NaN            tbd       NaN            Ubisoft   E     NaN          \n",
              "freq    12                           2127    NaN            3308    1344            NaN           NaN           NaN           NaN           NaN          NaN           NaN            2377      NaN            201       3922  NaN          \n",
              "mean    NaN                          NaN      2006.488996   NaN     NaN              0.263965      0.145895      0.078472      0.047583      0.53617      68.994363     26.441313     NaN        163.015141    NaN       NaN    11.511004   \n",
              "std     NaN                          NaN      5.877470      NaN     NaN              0.818286      0.506660      0.311064      0.187984      1.55846      13.920060     19.008136     NaN        563.863327    NaN       NaN    5.877470    \n",
              "min     NaN                          NaN      1980.000000   NaN     NaN              0.000000      0.000000      0.000000      0.000000      0.01000      13.000000     3.000000      NaN        4.000000      NaN       NaN   -2.000000    \n",
              "25%     NaN                          NaN      2003.000000   NaN     NaN              0.000000      0.000000      0.000000      0.000000      0.06000      60.000000     12.000000     NaN        10.000000     NaN       NaN    8.000000    \n",
              "50%     NaN                          NaN      2007.000000   NaN     NaN              0.080000      0.020000      0.000000      0.010000      0.17000      71.000000     22.000000     NaN        24.000000     NaN       NaN    11.000000   \n",
              "75%     NaN                          NaN      2010.000000   NaN     NaN              0.240000      0.110000      0.040000      0.030000      0.47000      79.000000     36.000000     NaN        81.000000     NaN       NaN    15.000000   \n",
              "max     NaN                          NaN      2020.000000   NaN     NaN              41.360000     28.960000     10.220000     10.570000     82.53000     98.000000     113.000000    NaN        10665.000000  NaN       NaN    38.000000   "
            ]
          },
          "metadata": {
            "tags": []
          },
          "execution_count": 53
        }
      ]
    },
    {
      "cell_type": "markdown",
      "metadata": {
        "id": "z0FPx2JuZFC7"
      },
      "source": [
        "2 things to see in the table above:\n",
        "\n",
        "1. The top value in User_Score column is \"tbd\" which I will mark as NaN.\n",
        "2. There are serious outliers in sales columns (Global, EU, NA, JP, Other) and User_Count column."
      ]
    },
    {
      "cell_type": "code",
      "metadata": {
        "id": "GZtlV9kTZKx_"
      },
      "source": [
        "# Replacing \"tbd\" values with np.nan and transforming column to float type\n",
        "data[\"User_Score\"] = data[\"User_Score\"].replace(\"tbd\", np.nan).astype(float)"
      ],
      "execution_count": 27,
      "outputs": []
    },
    {
      "cell_type": "markdown",
      "metadata": {
        "id": "_LWcdK9CaDXY"
      },
      "source": [
        "Next I want to see how many values there are missing in each column."
      ]
    },
    {
      "cell_type": "code",
      "metadata": {
        "id": "8SLJubD3aEA4"
      },
      "source": [
        "# Function to calculate missing values by column\n",
        "def missing_values_table(df):\n",
        "        # Total missing values\n",
        "        mis_val = df.isnull().sum()\n",
        "        \n",
        "        # Percentage of missing values\n",
        "        mis_val_percent = 100 * df.isnull().sum() / len(df)\n",
        "        \n",
        "        # Make a table with the results\n",
        "        mis_val_table = pd.concat([mis_val, mis_val_percent], axis=1)\n",
        "        \n",
        "        # Rename the columns\n",
        "        mis_val_table_ren_columns = mis_val_table.rename(\n",
        "        columns = {0 : \"Missing Values\", 1 : \"% of Total Values\"})\n",
        "        \n",
        "        # Sort the table by percentage of missing descending\n",
        "        mis_val_table_ren_columns = mis_val_table_ren_columns[\n",
        "            mis_val_table_ren_columns.iloc[:,1] != 0].sort_values(\n",
        "        \"% of Total Values\", ascending=False).round(1)\n",
        "        \n",
        "        # Print some summary information\n",
        "        print (\"Your selected dataframe has \" + str(df.shape[1]) + \" columns.\\n\"      \n",
        "            \"There are \" + str(mis_val_table_ren_columns.shape[0]) +\n",
        "              \" columns that have missing values.\")\n",
        "        \n",
        "        # Return the dataframe with missing information\n",
        "        return mis_val_table_ren_columns"
      ],
      "execution_count": 54,
      "outputs": []
    },
    {
      "cell_type": "code",
      "metadata": {
        "colab": {
          "base_uri": "https://localhost:8080/",
          "height": 288
        },
        "id": "gMwDdPSUaIrB",
        "outputId": "42cb47bd-c9df-470d-84da-06a1e76a0892"
      },
      "source": [
        "missing_values_table(data)"
      ],
      "execution_count": 55,
      "outputs": [
        {
          "output_type": "stream",
          "text": [
            "Your selected dataframe has 17 columns.\n",
            "There are 7 columns that have missing values.\n"
          ],
          "name": "stdout"
        },
        {
          "output_type": "execute_result",
          "data": {
            "text/html": [
              "<div>\n",
              "<style scoped>\n",
              "    .dataframe tbody tr th:only-of-type {\n",
              "        vertical-align: middle;\n",
              "    }\n",
              "\n",
              "    .dataframe tbody tr th {\n",
              "        vertical-align: top;\n",
              "    }\n",
              "\n",
              "    .dataframe thead th {\n",
              "        text-align: right;\n",
              "    }\n",
              "</style>\n",
              "<table border=\"1\" class=\"dataframe\">\n",
              "  <thead>\n",
              "    <tr style=\"text-align: right;\">\n",
              "      <th></th>\n",
              "      <th>Missing Values</th>\n",
              "      <th>% of Total Values</th>\n",
              "    </tr>\n",
              "  </thead>\n",
              "  <tbody>\n",
              "    <tr>\n",
              "      <th>User_Count</th>\n",
              "      <td>8985</td>\n",
              "      <td>54.6</td>\n",
              "    </tr>\n",
              "    <tr>\n",
              "      <th>Critic_Score</th>\n",
              "      <td>8465</td>\n",
              "      <td>51.5</td>\n",
              "    </tr>\n",
              "    <tr>\n",
              "      <th>Critic_Count</th>\n",
              "      <td>8465</td>\n",
              "      <td>51.5</td>\n",
              "    </tr>\n",
              "    <tr>\n",
              "      <th>Rating</th>\n",
              "      <td>6679</td>\n",
              "      <td>40.6</td>\n",
              "    </tr>\n",
              "    <tr>\n",
              "      <th>User_Score</th>\n",
              "      <td>6608</td>\n",
              "      <td>40.2</td>\n",
              "    </tr>\n",
              "    <tr>\n",
              "      <th>Developer</th>\n",
              "      <td>6541</td>\n",
              "      <td>39.8</td>\n",
              "    </tr>\n",
              "    <tr>\n",
              "      <th>Publisher</th>\n",
              "      <td>32</td>\n",
              "      <td>0.2</td>\n",
              "    </tr>\n",
              "  </tbody>\n",
              "</table>\n",
              "</div>"
            ],
            "text/plain": [
              "              Missing Values  % of Total Values\n",
              "User_Count    8985            54.6             \n",
              "Critic_Score  8465            51.5             \n",
              "Critic_Count  8465            51.5             \n",
              "Rating        6679            40.6             \n",
              "User_Score    6608            40.2             \n",
              "Developer     6541            39.8             \n",
              "Publisher     32              0.2              "
            ]
          },
          "metadata": {
            "tags": []
          },
          "execution_count": 55
        }
      ]
    },
    {
      "cell_type": "markdown",
      "metadata": {
        "id": "o0y375uKbGYC"
      },
      "source": [
        "More than 50% of user and critic scores are missing. Usually I drop features with too many missing values, but here I think that scores are invaluable for sales prediction, so I'll have to find a way around the problem.\n",
        "\n",
        "As I mentioned above, there are outliers in sales columns. They might be usefull for training as they indicate bestseller games, but for now I am going to remove them.\n",
        "\n",
        "Here an outlier is defined as a value greater than (or lesser than) third quartile (first quartile) plus 3 interquartile ranges (minus 3 interqurtile ranges)."
      ]
    },
    {
      "cell_type": "code",
      "metadata": {
        "id": "4jn14InxbbAz"
      },
      "source": [
        "def rm_outliers(df, list_of_keys):\n",
        "    df_out = df\n",
        "    for key in list_of_keys:\n",
        "        # Calculate first and third quartile\n",
        "        first_quartile = df_out[key].describe()[\"25%\"]\n",
        "        third_quartile = df_out[key].describe()[\"75%\"]\n",
        "\n",
        "        # Interquartile range\n",
        "        iqr = third_quartile - first_quartile\n",
        "\n",
        "        # Remove outliers\n",
        "        removed = df_out[(df_out[key] <= (first_quartile - 3 * iqr)) |\n",
        "                    (df_out[key] >= (third_quartile + 3 * iqr))] \n",
        "        df_out = df_out[(df_out[key] > (first_quartile - 3 * iqr)) &\n",
        "                    (df_out[key] < (third_quartile + 3 * iqr))]\n",
        "    return df_out, removed"
      ],
      "execution_count": 56,
      "outputs": []
    },
    {
      "cell_type": "code",
      "metadata": {
        "colab": {
          "base_uri": "https://localhost:8080/",
          "height": 284
        },
        "id": "z9tsKL82bhCJ",
        "outputId": "5a08590a-b457-4eff-d3ee-1535f89cdc8c"
      },
      "source": [
        "data, rmvd_global = rm_outliers(data, [\"Global\"])\n",
        "data.describe()"
      ],
      "execution_count": 57,
      "outputs": [
        {
          "output_type": "execute_result",
          "data": {
            "text/html": [
              "<div>\n",
              "<style scoped>\n",
              "    .dataframe tbody tr th:only-of-type {\n",
              "        vertical-align: middle;\n",
              "    }\n",
              "\n",
              "    .dataframe tbody tr th {\n",
              "        vertical-align: top;\n",
              "    }\n",
              "\n",
              "    .dataframe thead th {\n",
              "        text-align: right;\n",
              "    }\n",
              "</style>\n",
              "<table border=\"1\" class=\"dataframe\">\n",
              "  <thead>\n",
              "    <tr style=\"text-align: right;\">\n",
              "      <th></th>\n",
              "      <th>Year</th>\n",
              "      <th>NA</th>\n",
              "      <th>EU</th>\n",
              "      <th>JP</th>\n",
              "      <th>Other</th>\n",
              "      <th>Global</th>\n",
              "      <th>Critic_Score</th>\n",
              "      <th>Critic_Count</th>\n",
              "      <th>User_Count</th>\n",
              "      <th>Age</th>\n",
              "    </tr>\n",
              "  </thead>\n",
              "  <tbody>\n",
              "    <tr>\n",
              "      <th>count</th>\n",
              "      <td>15401.000000</td>\n",
              "      <td>15401.000000</td>\n",
              "      <td>15401.000000</td>\n",
              "      <td>15401.000000</td>\n",
              "      <td>15401.000000</td>\n",
              "      <td>15401.000000</td>\n",
              "      <td>7286.000000</td>\n",
              "      <td>7286.000000</td>\n",
              "      <td>6747.000000</td>\n",
              "      <td>15401.000000</td>\n",
              "    </tr>\n",
              "    <tr>\n",
              "      <th>mean</th>\n",
              "      <td>2006.592624</td>\n",
              "      <td>0.144688</td>\n",
              "      <td>0.072628</td>\n",
              "      <td>0.047301</td>\n",
              "      <td>0.024357</td>\n",
              "      <td>0.289258</td>\n",
              "      <td>67.779028</td>\n",
              "      <td>24.518117</td>\n",
              "      <td>111.325033</td>\n",
              "      <td>11.407376</td>\n",
              "    </tr>\n",
              "    <tr>\n",
              "      <th>std</th>\n",
              "      <td>5.758078</td>\n",
              "      <td>0.210709</td>\n",
              "      <td>0.131408</td>\n",
              "      <td>0.130786</td>\n",
              "      <td>0.050152</td>\n",
              "      <td>0.346918</td>\n",
              "      <td>13.612120</td>\n",
              "      <td>17.194878</td>\n",
              "      <td>406.635191</td>\n",
              "      <td>5.758078</td>\n",
              "    </tr>\n",
              "    <tr>\n",
              "      <th>min</th>\n",
              "      <td>1980.000000</td>\n",
              "      <td>0.000000</td>\n",
              "      <td>0.000000</td>\n",
              "      <td>0.000000</td>\n",
              "      <td>0.000000</td>\n",
              "      <td>0.010000</td>\n",
              "      <td>13.000000</td>\n",
              "      <td>3.000000</td>\n",
              "      <td>4.000000</td>\n",
              "      <td>-2.000000</td>\n",
              "    </tr>\n",
              "    <tr>\n",
              "      <th>25%</th>\n",
              "      <td>2003.000000</td>\n",
              "      <td>0.000000</td>\n",
              "      <td>0.000000</td>\n",
              "      <td>0.000000</td>\n",
              "      <td>0.000000</td>\n",
              "      <td>0.060000</td>\n",
              "      <td>59.000000</td>\n",
              "      <td>11.000000</td>\n",
              "      <td>9.000000</td>\n",
              "      <td>8.000000</td>\n",
              "    </tr>\n",
              "    <tr>\n",
              "      <th>50%</th>\n",
              "      <td>2007.000000</td>\n",
              "      <td>0.070000</td>\n",
              "      <td>0.020000</td>\n",
              "      <td>0.000000</td>\n",
              "      <td>0.010000</td>\n",
              "      <td>0.150000</td>\n",
              "      <td>70.000000</td>\n",
              "      <td>20.000000</td>\n",
              "      <td>21.000000</td>\n",
              "      <td>11.000000</td>\n",
              "    </tr>\n",
              "    <tr>\n",
              "      <th>75%</th>\n",
              "      <td>2010.000000</td>\n",
              "      <td>0.190000</td>\n",
              "      <td>0.080000</td>\n",
              "      <td>0.030000</td>\n",
              "      <td>0.030000</td>\n",
              "      <td>0.380000</td>\n",
              "      <td>78.000000</td>\n",
              "      <td>34.000000</td>\n",
              "      <td>61.000000</td>\n",
              "      <td>15.000000</td>\n",
              "    </tr>\n",
              "    <tr>\n",
              "      <th>max</th>\n",
              "      <td>2020.000000</td>\n",
              "      <td>1.670000</td>\n",
              "      <td>1.580000</td>\n",
              "      <td>1.650000</td>\n",
              "      <td>1.180000</td>\n",
              "      <td>1.690000</td>\n",
              "      <td>98.000000</td>\n",
              "      <td>106.000000</td>\n",
              "      <td>10665.000000</td>\n",
              "      <td>38.000000</td>\n",
              "    </tr>\n",
              "  </tbody>\n",
              "</table>\n",
              "</div>"
            ],
            "text/plain": [
              "               Year            NA            EU            JP         Other        Global  Critic_Score  Critic_Count    User_Count           Age\n",
              "count  15401.000000  15401.000000  15401.000000  15401.000000  15401.000000  15401.000000  7286.000000   7286.000000   6747.000000   15401.000000\n",
              "mean   2006.592624   0.144688      0.072628      0.047301      0.024357      0.289258      67.779028     24.518117     111.325033    11.407376   \n",
              "std    5.758078      0.210709      0.131408      0.130786      0.050152      0.346918      13.612120     17.194878     406.635191    5.758078    \n",
              "min    1980.000000   0.000000      0.000000      0.000000      0.000000      0.010000      13.000000     3.000000      4.000000     -2.000000    \n",
              "25%    2003.000000   0.000000      0.000000      0.000000      0.000000      0.060000      59.000000     11.000000     9.000000      8.000000    \n",
              "50%    2007.000000   0.070000      0.020000      0.000000      0.010000      0.150000      70.000000     20.000000     21.000000     11.000000   \n",
              "75%    2010.000000   0.190000      0.080000      0.030000      0.030000      0.380000      78.000000     34.000000     61.000000     15.000000   \n",
              "max    2020.000000   1.670000      1.580000      1.650000      1.180000      1.690000      98.000000     106.000000    10665.000000  38.000000   "
            ]
          },
          "metadata": {
            "tags": []
          },
          "execution_count": 57
        }
      ]
    },
    {
      "cell_type": "code",
      "metadata": {
        "id": "9sqZGEAvbqFx"
      },
      "source": [
        "data[\"Has_Score\"] = data[\"User_Score\"].notnull() & data[\"Critic_Score\"].notnull()\n",
        "rmvd_global[\"Has_Score\"] = rmvd_global[\"User_Score\"].notnull() & rmvd_global[\"Critic_Score\"].notnull()"
      ],
      "execution_count": 58,
      "outputs": []
    },
    {
      "cell_type": "markdown",
      "metadata": {
        "id": "sBEItf51acNz"
      },
      "source": [
        "**Basic model**"
      ]
    },
    {
      "cell_type": "markdown",
      "metadata": {
        "id": "fbaVLWJragFK"
      },
      "source": [
        "For my basic model I am going to drop games that don't have a user score, critic score or rating."
      ]
    },
    {
      "cell_type": "code",
      "metadata": {
        "colab": {
          "base_uri": "https://localhost:8080/",
          "height": 284
        },
        "id": "ue6XNyG5aduu",
        "outputId": "d370106b-be95-435d-bf45-25710837ae45"
      },
      "source": [
        "scored = data.dropna(subset=[\"User_Score\", \"Critic_Score\", \"Rating\"])\n",
        "scored.describe()"
      ],
      "execution_count": 59,
      "outputs": [
        {
          "output_type": "execute_result",
          "data": {
            "text/html": [
              "<div>\n",
              "<style scoped>\n",
              "    .dataframe tbody tr th:only-of-type {\n",
              "        vertical-align: middle;\n",
              "    }\n",
              "\n",
              "    .dataframe tbody tr th {\n",
              "        vertical-align: top;\n",
              "    }\n",
              "\n",
              "    .dataframe thead th {\n",
              "        text-align: right;\n",
              "    }\n",
              "</style>\n",
              "<table border=\"1\" class=\"dataframe\">\n",
              "  <thead>\n",
              "    <tr style=\"text-align: right;\">\n",
              "      <th></th>\n",
              "      <th>Year</th>\n",
              "      <th>NA</th>\n",
              "      <th>EU</th>\n",
              "      <th>JP</th>\n",
              "      <th>Other</th>\n",
              "      <th>Global</th>\n",
              "      <th>Critic_Score</th>\n",
              "      <th>Critic_Count</th>\n",
              "      <th>User_Count</th>\n",
              "      <th>Age</th>\n",
              "    </tr>\n",
              "  </thead>\n",
              "  <tbody>\n",
              "    <tr>\n",
              "      <th>count</th>\n",
              "      <td>7185.000000</td>\n",
              "      <td>7185.000000</td>\n",
              "      <td>7185.000000</td>\n",
              "      <td>7185.000000</td>\n",
              "      <td>7185.000000</td>\n",
              "      <td>7185.000000</td>\n",
              "      <td>7185.000000</td>\n",
              "      <td>7185.000000</td>\n",
              "      <td>6137.000000</td>\n",
              "      <td>7185.000000</td>\n",
              "    </tr>\n",
              "    <tr>\n",
              "      <th>mean</th>\n",
              "      <td>2007.121364</td>\n",
              "      <td>0.195992</td>\n",
              "      <td>0.102938</td>\n",
              "      <td>0.025637</td>\n",
              "      <td>0.035795</td>\n",
              "      <td>0.360692</td>\n",
              "      <td>67.776061</td>\n",
              "      <td>24.617676</td>\n",
              "      <td>118.897181</td>\n",
              "      <td>10.878636</td>\n",
              "    </tr>\n",
              "    <tr>\n",
              "      <th>std</th>\n",
              "      <td>4.115742</td>\n",
              "      <td>0.223204</td>\n",
              "      <td>0.149407</td>\n",
              "      <td>0.088654</td>\n",
              "      <td>0.058430</td>\n",
              "      <td>0.378126</td>\n",
              "      <td>13.614107</td>\n",
              "      <td>17.231793</td>\n",
              "      <td>424.446207</td>\n",
              "      <td>4.115742</td>\n",
              "    </tr>\n",
              "    <tr>\n",
              "      <th>min</th>\n",
              "      <td>1985.000000</td>\n",
              "      <td>0.000000</td>\n",
              "      <td>0.000000</td>\n",
              "      <td>0.000000</td>\n",
              "      <td>0.000000</td>\n",
              "      <td>0.010000</td>\n",
              "      <td>13.000000</td>\n",
              "      <td>3.000000</td>\n",
              "      <td>4.000000</td>\n",
              "      <td>2.000000</td>\n",
              "    </tr>\n",
              "    <tr>\n",
              "      <th>25%</th>\n",
              "      <td>2004.000000</td>\n",
              "      <td>0.050000</td>\n",
              "      <td>0.010000</td>\n",
              "      <td>0.000000</td>\n",
              "      <td>0.010000</td>\n",
              "      <td>0.090000</td>\n",
              "      <td>59.000000</td>\n",
              "      <td>11.000000</td>\n",
              "      <td>10.000000</td>\n",
              "      <td>8.000000</td>\n",
              "    </tr>\n",
              "    <tr>\n",
              "      <th>50%</th>\n",
              "      <td>2007.000000</td>\n",
              "      <td>0.110000</td>\n",
              "      <td>0.040000</td>\n",
              "      <td>0.000000</td>\n",
              "      <td>0.020000</td>\n",
              "      <td>0.210000</td>\n",
              "      <td>70.000000</td>\n",
              "      <td>20.000000</td>\n",
              "      <td>23.000000</td>\n",
              "      <td>11.000000</td>\n",
              "    </tr>\n",
              "    <tr>\n",
              "      <th>75%</th>\n",
              "      <td>2010.000000</td>\n",
              "      <td>0.260000</td>\n",
              "      <td>0.130000</td>\n",
              "      <td>0.000000</td>\n",
              "      <td>0.040000</td>\n",
              "      <td>0.510000</td>\n",
              "      <td>78.000000</td>\n",
              "      <td>34.000000</td>\n",
              "      <td>66.000000</td>\n",
              "      <td>14.000000</td>\n",
              "    </tr>\n",
              "    <tr>\n",
              "      <th>max</th>\n",
              "      <td>2016.000000</td>\n",
              "      <td>1.670000</td>\n",
              "      <td>1.580000</td>\n",
              "      <td>1.390000</td>\n",
              "      <td>1.180000</td>\n",
              "      <td>1.690000</td>\n",
              "      <td>98.000000</td>\n",
              "      <td>106.000000</td>\n",
              "      <td>10665.000000</td>\n",
              "      <td>33.000000</td>\n",
              "    </tr>\n",
              "  </tbody>\n",
              "</table>\n",
              "</div>"
            ],
            "text/plain": [
              "              Year           NA           EU           JP        Other       Global  Critic_Score  Critic_Count    User_Count          Age\n",
              "count  7185.000000  7185.000000  7185.000000  7185.000000  7185.000000  7185.000000  7185.000000   7185.000000   6137.000000   7185.000000\n",
              "mean   2007.121364  0.195992     0.102938     0.025637     0.035795     0.360692     67.776061     24.617676     118.897181    10.878636  \n",
              "std    4.115742     0.223204     0.149407     0.088654     0.058430     0.378126     13.614107     17.231793     424.446207    4.115742   \n",
              "min    1985.000000  0.000000     0.000000     0.000000     0.000000     0.010000     13.000000     3.000000      4.000000      2.000000   \n",
              "25%    2004.000000  0.050000     0.010000     0.000000     0.010000     0.090000     59.000000     11.000000     10.000000     8.000000   \n",
              "50%    2007.000000  0.110000     0.040000     0.000000     0.020000     0.210000     70.000000     20.000000     23.000000     11.000000  \n",
              "75%    2010.000000  0.260000     0.130000     0.000000     0.040000     0.510000     78.000000     34.000000     66.000000     14.000000  \n",
              "max    2016.000000  1.670000     1.580000     1.390000     1.180000     1.690000     98.000000     106.000000    10665.000000  33.000000  "
            ]
          },
          "metadata": {
            "tags": []
          },
          "execution_count": 59
        }
      ]
    },
    {
      "cell_type": "markdown",
      "metadata": {
        "id": "Fqp0YVcNb7xg"
      },
      "source": [
        "I will also remove outliers in User_Count column."
      ]
    },
    {
      "cell_type": "code",
      "metadata": {
        "colab": {
          "base_uri": "https://localhost:8080/",
          "height": 284
        },
        "id": "UBjQVNd1b6xP",
        "outputId": "7dc3c8b0-f0f6-42c2-9179-a39901fab7dc"
      },
      "source": [
        "scored, rmvd_user_count = rm_outliers(scored, [\"User_Count\"])\n",
        "scored.describe()"
      ],
      "execution_count": 60,
      "outputs": [
        {
          "output_type": "execute_result",
          "data": {
            "text/html": [
              "<div>\n",
              "<style scoped>\n",
              "    .dataframe tbody tr th:only-of-type {\n",
              "        vertical-align: middle;\n",
              "    }\n",
              "\n",
              "    .dataframe tbody tr th {\n",
              "        vertical-align: top;\n",
              "    }\n",
              "\n",
              "    .dataframe thead th {\n",
              "        text-align: right;\n",
              "    }\n",
              "</style>\n",
              "<table border=\"1\" class=\"dataframe\">\n",
              "  <thead>\n",
              "    <tr style=\"text-align: right;\">\n",
              "      <th></th>\n",
              "      <th>Year</th>\n",
              "      <th>NA</th>\n",
              "      <th>EU</th>\n",
              "      <th>JP</th>\n",
              "      <th>Other</th>\n",
              "      <th>Global</th>\n",
              "      <th>Critic_Score</th>\n",
              "      <th>Critic_Count</th>\n",
              "      <th>User_Count</th>\n",
              "      <th>Age</th>\n",
              "    </tr>\n",
              "  </thead>\n",
              "  <tbody>\n",
              "    <tr>\n",
              "      <th>count</th>\n",
              "      <td>5534.000000</td>\n",
              "      <td>5534.000000</td>\n",
              "      <td>5534.000000</td>\n",
              "      <td>5534.000000</td>\n",
              "      <td>5534.000000</td>\n",
              "      <td>5534.000000</td>\n",
              "      <td>5534.000000</td>\n",
              "      <td>5534.000000</td>\n",
              "      <td>5534.000000</td>\n",
              "      <td>5534.000000</td>\n",
              "    </tr>\n",
              "    <tr>\n",
              "      <th>mean</th>\n",
              "      <td>2007.055837</td>\n",
              "      <td>0.205403</td>\n",
              "      <td>0.098572</td>\n",
              "      <td>0.028995</td>\n",
              "      <td>0.036368</td>\n",
              "      <td>0.369597</td>\n",
              "      <td>67.815866</td>\n",
              "      <td>24.958439</td>\n",
              "      <td>37.459523</td>\n",
              "      <td>10.944163</td>\n",
              "    </tr>\n",
              "    <tr>\n",
              "      <th>std</th>\n",
              "      <td>4.010373</td>\n",
              "      <td>0.225580</td>\n",
              "      <td>0.138941</td>\n",
              "      <td>0.095492</td>\n",
              "      <td>0.056428</td>\n",
              "      <td>0.367824</td>\n",
              "      <td>13.408831</td>\n",
              "      <td>15.689528</td>\n",
              "      <td>44.572477</td>\n",
              "      <td>4.010373</td>\n",
              "    </tr>\n",
              "    <tr>\n",
              "      <th>min</th>\n",
              "      <td>1985.000000</td>\n",
              "      <td>0.000000</td>\n",
              "      <td>0.000000</td>\n",
              "      <td>0.000000</td>\n",
              "      <td>0.000000</td>\n",
              "      <td>0.010000</td>\n",
              "      <td>13.000000</td>\n",
              "      <td>3.000000</td>\n",
              "      <td>4.000000</td>\n",
              "      <td>2.000000</td>\n",
              "    </tr>\n",
              "    <tr>\n",
              "      <th>25%</th>\n",
              "      <td>2004.000000</td>\n",
              "      <td>0.060000</td>\n",
              "      <td>0.010000</td>\n",
              "      <td>0.000000</td>\n",
              "      <td>0.010000</td>\n",
              "      <td>0.100000</td>\n",
              "      <td>60.000000</td>\n",
              "      <td>13.000000</td>\n",
              "      <td>9.000000</td>\n",
              "      <td>8.000000</td>\n",
              "    </tr>\n",
              "    <tr>\n",
              "      <th>50%</th>\n",
              "      <td>2007.000000</td>\n",
              "      <td>0.130000</td>\n",
              "      <td>0.040000</td>\n",
              "      <td>0.000000</td>\n",
              "      <td>0.020000</td>\n",
              "      <td>0.230000</td>\n",
              "      <td>70.000000</td>\n",
              "      <td>22.000000</td>\n",
              "      <td>20.000000</td>\n",
              "      <td>11.000000</td>\n",
              "    </tr>\n",
              "    <tr>\n",
              "      <th>75%</th>\n",
              "      <td>2010.000000</td>\n",
              "      <td>0.280000</td>\n",
              "      <td>0.130000</td>\n",
              "      <td>0.000000</td>\n",
              "      <td>0.047500</td>\n",
              "      <td>0.520000</td>\n",
              "      <td>78.000000</td>\n",
              "      <td>34.000000</td>\n",
              "      <td>45.000000</td>\n",
              "      <td>14.000000</td>\n",
              "    </tr>\n",
              "    <tr>\n",
              "      <th>max</th>\n",
              "      <td>2016.000000</td>\n",
              "      <td>1.670000</td>\n",
              "      <td>1.160000</td>\n",
              "      <td>1.390000</td>\n",
              "      <td>1.130000</td>\n",
              "      <td>1.690000</td>\n",
              "      <td>98.000000</td>\n",
              "      <td>91.000000</td>\n",
              "      <td>233.000000</td>\n",
              "      <td>33.000000</td>\n",
              "    </tr>\n",
              "  </tbody>\n",
              "</table>\n",
              "</div>"
            ],
            "text/plain": [
              "              Year           NA           EU           JP        Other       Global  Critic_Score  Critic_Count   User_Count          Age\n",
              "count  5534.000000  5534.000000  5534.000000  5534.000000  5534.000000  5534.000000  5534.000000   5534.000000   5534.000000  5534.000000\n",
              "mean   2007.055837  0.205403     0.098572     0.028995     0.036368     0.369597     67.815866     24.958439     37.459523    10.944163  \n",
              "std    4.010373     0.225580     0.138941     0.095492     0.056428     0.367824     13.408831     15.689528     44.572477    4.010373   \n",
              "min    1985.000000  0.000000     0.000000     0.000000     0.000000     0.010000     13.000000     3.000000      4.000000     2.000000   \n",
              "25%    2004.000000  0.060000     0.010000     0.000000     0.010000     0.100000     60.000000     13.000000     9.000000     8.000000   \n",
              "50%    2007.000000  0.130000     0.040000     0.000000     0.020000     0.230000     70.000000     22.000000     20.000000    11.000000  \n",
              "75%    2010.000000  0.280000     0.130000     0.000000     0.047500     0.520000     78.000000     34.000000     45.000000    14.000000  \n",
              "max    2016.000000  1.670000     1.160000     1.390000     1.130000     1.690000     98.000000     91.000000     233.000000   33.000000  "
            ]
          },
          "metadata": {
            "tags": []
          },
          "execution_count": 60
        }
      ]
    },
    {
      "cell_type": "markdown",
      "metadata": {
        "id": "Ihp4IUSdcHEU"
      },
      "source": [
        "Only 5.5k games, ~1/3 of all games in a dataset. That for a basic model it will be ok."
      ]
    },
    {
      "cell_type": "code",
      "metadata": {
        "colab": {
          "base_uri": "https://localhost:8080/"
        },
        "id": "4ojQFnl5tQ5b",
        "outputId": "8d0d1cbb-1328-46df-b3e1-b6599eedf9a0"
      },
      "source": [
        "pip install category_encoders"
      ],
      "execution_count": 61,
      "outputs": [
        {
          "output_type": "stream",
          "text": [
            "Requirement already satisfied: category_encoders in /usr/local/lib/python3.7/dist-packages (2.2.2)\n",
            "Requirement already satisfied: scikit-learn>=0.20.0 in /usr/local/lib/python3.7/dist-packages (from category_encoders) (0.22.2.post1)\n",
            "Requirement already satisfied: pandas>=0.21.1 in /usr/local/lib/python3.7/dist-packages (from category_encoders) (1.1.5)\n",
            "Requirement already satisfied: scipy>=1.0.0 in /usr/local/lib/python3.7/dist-packages (from category_encoders) (1.4.1)\n",
            "Requirement already satisfied: statsmodels>=0.9.0 in /usr/local/lib/python3.7/dist-packages (from category_encoders) (0.10.2)\n",
            "Requirement already satisfied: patsy>=0.5.1 in /usr/local/lib/python3.7/dist-packages (from category_encoders) (0.5.1)\n",
            "Requirement already satisfied: numpy>=1.14.0 in /usr/local/lib/python3.7/dist-packages (from category_encoders) (1.19.5)\n",
            "Requirement already satisfied: joblib>=0.11 in /usr/local/lib/python3.7/dist-packages (from scikit-learn>=0.20.0->category_encoders) (1.0.1)\n",
            "Requirement already satisfied: pytz>=2017.2 in /usr/local/lib/python3.7/dist-packages (from pandas>=0.21.1->category_encoders) (2018.9)\n",
            "Requirement already satisfied: python-dateutil>=2.7.3 in /usr/local/lib/python3.7/dist-packages (from pandas>=0.21.1->category_encoders) (2.8.1)\n",
            "Requirement already satisfied: six in /usr/local/lib/python3.7/dist-packages (from patsy>=0.5.1->category_encoders) (1.15.0)\n"
          ],
          "name": "stdout"
        }
      ]
    },
    {
      "cell_type": "code",
      "metadata": {
        "colab": {
          "base_uri": "https://localhost:8080/"
        },
        "id": "wE3exMeggMEo",
        "outputId": "50b3a5da-87ff-448e-daa2-ead0b5cf945e"
      },
      "source": [
        "import category_encoders as ce\n",
        "# Select the numeric columns\n",
        "numeric_subset = scored.select_dtypes(\"number\").drop(columns=[\"NA\", \"EU\", \"JP\", \"Other\", \"Year\"])\n",
        "\n",
        "# Select the categorical column\n",
        "categorical_subset = scored[[\"Platform\", \"Genre\", \"Rating\"]]\n",
        "\n",
        "# One hot encode\n",
        "encoder = ce.one_hot.OneHotEncoder()\n",
        "categorical_subset = encoder.fit_transform(categorical_subset)\n",
        "\n",
        "# Join the two dataframes using concat\n",
        "# Make sure to use axis = 1 to perform a column bind\n",
        "features = pd.concat([numeric_subset, categorical_subset], axis = 1)\n",
        "\n",
        "# Find correlations with the score \n",
        "correlations = features.corr()[\"Global\"].dropna().sort_values()"
      ],
      "execution_count": 62,
      "outputs": [
        {
          "output_type": "stream",
          "text": [
            "/usr/local/lib/python3.7/dist-packages/category_encoders/utils.py:21: FutureWarning: is_categorical is deprecated and will be removed in a future version.  Use is_categorical_dtype instead\n",
            "  elif pd.api.types.is_categorical(cols):\n"
          ],
          "name": "stderr"
        }
      ]
    },
    {
      "cell_type": "markdown",
      "metadata": {
        "id": "snC976saui-B"
      },
      "source": [
        "Splitting data into train and test sets."
      ]
    },
    {
      "cell_type": "code",
      "metadata": {
        "colab": {
          "base_uri": "https://localhost:8080/"
        },
        "id": "zH9RUvy6c-Tz",
        "outputId": "fe0f4217-e6f9-4f24-9144-538627f8bf4c"
      },
      "source": [
        "from sklearn.model_selection import train_test_split\n",
        "X = pd.Series(features[\"Global\"]).values.reshape(-1,1)\n",
        "y = features.drop(columns=\"Global\")\n",
        "X_train, X_test, y_train, y_test = train_test_split(X, y, test_size=0.2)\n",
        "print(X_train.shape)\n",
        "print(X_test.shape)\n",
        "print(y_train.shape)\n",
        "print(y_test.shape)"
      ],
      "execution_count": 63,
      "outputs": [
        {
          "output_type": "stream",
          "text": [
            "(4427, 1)\n",
            "(1107, 1)\n",
            "(4427, 38)\n",
            "(1107, 38)\n"
          ],
          "name": "stdout"
        }
      ]
    },
    {
      "cell_type": "markdown",
      "metadata": {
        "id": "AyKniSGAi30S"
      },
      "source": [
        "Defining a function to evaluate my model. I will use mean absolute error."
      ]
    },
    {
      "cell_type": "code",
      "metadata": {
        "id": "egoKqZQ-RONq"
      },
      "source": [
        "from sklearn.linear_model import LinearRegression\n",
        "from sklearn.metrics import mean_squared_error, mean_absolute_error\n",
        "from sklearn.model_selection import cross_val_score\n",
        "from sklearn.model_selection import KFold"
      ],
      "execution_count": 64,
      "outputs": []
    },
    {
      "cell_type": "code",
      "metadata": {
        "colab": {
          "base_uri": "https://localhost:8080/"
        },
        "id": "t69wwqL3t2LP",
        "outputId": "c222659a-ce86-4b32-960a-b780de4d9aa9"
      },
      "source": [
        "linreg = LinearRegression()\n",
        "linreg.fit(X_train, y_train)\n",
        "\n",
        "y_pred = linreg.predict(X_test)\n",
        "\n",
        "crossvalidation = KFold(n_splits=10, random_state=1, shuffle=True)\n",
        "scores = cross_val_score(linreg, X, y, scoring=\"neg_mean_squared_error\", cv=crossvalidation, n_jobs=1)\n",
        "mae = scores.mean()\n",
        "rmse = np.sqrt(-scores)\n",
        "\n",
        "print(\"\\nLinear Regression Performance on the test set: RMSE (Root Mean Squared Error) : {:.4f} \\n\".format(rmse.mean()))\n",
        "print(\"Linear Regression Performance on the test set: MAE (Mean Absolute Error) : %.3f\" %(mae))"
      ],
      "execution_count": 43,
      "outputs": [
        {
          "output_type": "stream",
          "text": [
            "\n",
            "Linear Regression Performance on the test set: RMSE (Root Mean Squared Error) : 7.6311 \n",
            "\n",
            "Linear Regression Performance on the test set: MAE (Mean Absolute Error) : -58.267\n"
          ],
          "name": "stdout"
        }
      ]
    },
    {
      "cell_type": "code",
      "metadata": {
        "colab": {
          "base_uri": "https://localhost:8080/",
          "height": 1000
        },
        "id": "jXDSg-1cUIx-",
        "outputId": "ac7079b6-6fa1-4700-e02e-10fa749ed4ba"
      },
      "source": [
        "print('\\n')\n",
        "# Validation Loss in K Fold\n",
        "plt.title('Testing Loss V/s K_Fold')\n",
        "plt.plot(X) \n",
        "plt.show()\n",
        "\n",
        "print('\\n') \n",
        "# Training Loss in K Fold\n",
        "plt.title('Training Loss V/s K_Fold')\n",
        "plt.plot(y) \n",
        "plt.show()"
      ],
      "execution_count": 65,
      "outputs": [
        {
          "output_type": "stream",
          "text": [
            "\n",
            "\n"
          ],
          "name": "stdout"
        },
        {
          "output_type": "display_data",
          "data": {
            "image/png": "[encoded data removed]",
            "text/plain": [
              "<Figure size 1080x864 with 1 Axes>"
            ]
          },
          "metadata": {
            "tags": []
          }
        },
        {
          "output_type": "stream",
          "text": [
            "\n",
            "\n"
          ],
          "name": "stdout"
        },
        {
          "output_type": "display_data",
          "data": {
            "image/png": "[encoded data removed]",
            "text/plain": [
              "<Figure size 1080x864 with 1 Axes>"
            ]
          },
          "metadata": {
            "tags": []
          }
        }
      ]
    },
    {
      "cell_type": "code",
      "metadata": {
        "id": "6eTj7PZft9a4"
      },
      "source": [
        "def gradient_descent(X, y, lr=0.05, epoch=10):\n",
        "    \n",
        "    m, b = 0.2, 0.2 # parameters\n",
        "    log, mse = [], [] # lists to store learning process\n",
        "    N = len(X) # number of samples\n",
        "    \n",
        "    for _ in range(epoch):\n",
        "                \n",
        "        f = y - (m*X + b)\n",
        "    \n",
        "        # Updating m and b\n",
        "        m -= lr * (-2 * X.dot(f).sum() / N)\n",
        "        b -= lr * (-2 * f.sum() / N)\n",
        "        \n",
        "        log.append((m, b))\n",
        "        mse.append(mean_squared_error(y, (m*X + b)))        \n",
        "    \n",
        "    return m, b, log, mse"
      ],
      "execution_count": 49,
      "outputs": []
    },
    {
      "cell_type": "code",
      "metadata": {
        "colab": {
          "base_uri": "https://localhost:8080/"
        },
        "id": "_uNU_PGswKlH",
        "outputId": "446571a6-e8fc-4f77-a83b-ab3edbb78f17"
      },
      "source": [
        "X = features.Global\n",
        "y = features.Global\n",
        "\n",
        "m, b, log, mse = gradient_descent(X, y, lr=0.01, epoch=100)\n",
        "\n",
        "y_pred = m*X + b\n",
        "\n",
        "print(\"MSE:\",mean_squared_error(y, y_pred))\n",
        "print(\"RMSE:\",np.sqrt(mean_squared_error(y, y_pred)))"
      ],
      "execution_count": 19,
      "outputs": [
        {
          "output_type": "stream",
          "text": [
            "MSE: 0.04886232142764541\n",
            "RMSE: 0.22104823326062892\n"
          ],
          "name": "stdout"
        }
      ]
    },
    {
      "cell_type": "code",
      "metadata": {
        "colab": {
          "base_uri": "https://localhost:8080/",
          "height": 759
        },
        "id": "Wb6Ed6IIKMx2",
        "outputId": "e7fb8f6c-67b7-4289-9db0-249deebe2566"
      },
      "source": [
        "plt.scatter(X, y) \n",
        "plt.plot([min(X), max(X)], [min(y_pred), max(y_pred)], color='red')  # regression line\n",
        "plt.show()"
      ],
      "execution_count": null,
      "outputs": [
        {
          "output_type": "display_data",
          "data": {
            "image/png": "[encoded data removed]",
            "text/plain": [
              "<Figure size 1080x864 with 1 Axes>"
            ]
          },
          "metadata": {
            "tags": []
          }
        }
      ]
    }
  ]
}