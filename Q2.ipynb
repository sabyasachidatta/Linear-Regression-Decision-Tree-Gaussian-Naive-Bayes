{
  "nbformat": 4,
  "nbformat_minor": 0,
  "metadata": {
    "colab": {
      "name": "Q2_SabyasachiDattaOPD20009.ipynb",
      "provenance": []
    },
    "kernelspec": {
      "name": "python3",
      "display_name": "Python 3"
    },
    "language_info": {
      "name": "python"
    }
  },
  "cells": [
    {
      "cell_type": "code",
      "metadata": {
        "colab": {
          "base_uri": "https://localhost:8080/"
        },
        "id": "VfdX0ljzYIHO",
        "outputId": "742c6633-72fc-4757-f19d-ba614c5584bc"
      },
      "source": [
        "#Import libraries\n",
        "\n",
        "import numpy as np\n",
        "import pandas as pd\n",
        "#import tensorflow as tf\n",
        "import tensorflow.compat.v1 as tf\n",
        "tf.disable_v2_behavior() \n",
        "import matplotlib.pyplot as plt"
      ],
      "execution_count": 2,
      "outputs": [
        {
          "output_type": "stream",
          "text": [
            "WARNING:tensorflow:From /usr/local/lib/python3.7/dist-packages/tensorflow/python/compat/v2_compat.py:96: disable_resource_variables (from tensorflow.python.ops.variable_scope) is deprecated and will be removed in a future version.\n",
            "Instructions for updating:\n",
            "non-resource variables are not supported in the long term\n"
          ],
          "name": "stdout"
        }
      ]
    },
    {
      "cell_type": "code",
      "metadata": {
        "colab": {
          "base_uri": "https://localhost:8080/"
        },
        "id": "FGLJmgiAYqv9",
        "outputId": "5c8239b0-1c88-45c4-8b9c-0e6b26dc3a2d"
      },
      "source": [
        "df=pd.read_csv('/content/Real_time_dataset.csv')\n",
        "feat=df['Height']\n",
        "lab=df['Weight']\n",
        "feat.shape,lab.shape"
      ],
      "execution_count": 3,
      "outputs": [
        {
          "output_type": "execute_result",
          "data": {
            "text/plain": [
              "((25,), (25,))"
            ]
          },
          "metadata": {
            "tags": []
          },
          "execution_count": 3
        }
      ]
    },
    {
      "cell_type": "code",
      "metadata": {
        "colab": {
          "base_uri": "https://localhost:8080/",
          "height": 195
        },
        "id": "c3n6kMvOZEuV",
        "outputId": "27bcdb15-ac8c-4f54-a576-a1ffc628b2e8"
      },
      "source": [
        "df.head()"
      ],
      "execution_count": 4,
      "outputs": [
        {
          "output_type": "execute_result",
          "data": {
            "text/html": [
              "<div>\n",
              "<style scoped>\n",
              "    .dataframe tbody tr th:only-of-type {\n",
              "        vertical-align: middle;\n",
              "    }\n",
              "\n",
              "    .dataframe tbody tr th {\n",
              "        vertical-align: top;\n",
              "    }\n",
              "\n",
              "    .dataframe thead th {\n",
              "        text-align: right;\n",
              "    }\n",
              "</style>\n",
              "<table border=\"1\" class=\"dataframe\">\n",
              "  <thead>\n",
              "    <tr style=\"text-align: right;\">\n",
              "      <th></th>\n",
              "      <th>Sample</th>\n",
              "      <th>Height</th>\n",
              "      <th>Weight</th>\n",
              "      <th>Age</th>\n",
              "      <th>Gender</th>\n",
              "    </tr>\n",
              "  </thead>\n",
              "  <tbody>\n",
              "    <tr>\n",
              "      <th>0</th>\n",
              "      <td>1</td>\n",
              "      <td>5.7</td>\n",
              "      <td>68</td>\n",
              "      <td>22</td>\n",
              "      <td>Male</td>\n",
              "    </tr>\n",
              "    <tr>\n",
              "      <th>1</th>\n",
              "      <td>2</td>\n",
              "      <td>5.6</td>\n",
              "      <td>67</td>\n",
              "      <td>29</td>\n",
              "      <td>Male</td>\n",
              "    </tr>\n",
              "    <tr>\n",
              "      <th>2</th>\n",
              "      <td>3</td>\n",
              "      <td>5.6</td>\n",
              "      <td>52</td>\n",
              "      <td>23</td>\n",
              "      <td>Female</td>\n",
              "    </tr>\n",
              "    <tr>\n",
              "      <th>3</th>\n",
              "      <td>4</td>\n",
              "      <td>5.9</td>\n",
              "      <td>80</td>\n",
              "      <td>26</td>\n",
              "      <td>Male</td>\n",
              "    </tr>\n",
              "    <tr>\n",
              "      <th>4</th>\n",
              "      <td>5</td>\n",
              "      <td>5.5</td>\n",
              "      <td>70</td>\n",
              "      <td>30</td>\n",
              "      <td>Male</td>\n",
              "    </tr>\n",
              "  </tbody>\n",
              "</table>\n",
              "</div>"
            ],
            "text/plain": [
              "   Sample  Height  Weight  Age  Gender\n",
              "0       1     5.7      68   22    Male\n",
              "1       2     5.6      67   29    Male\n",
              "2       3     5.6      52   23  Female\n",
              "3       4     5.9      80   26    Male\n",
              "4       5     5.5      70   30    Male"
            ]
          },
          "metadata": {
            "tags": []
          },
          "execution_count": 4
        }
      ]
    },
    {
      "cell_type": "code",
      "metadata": {
        "colab": {
          "base_uri": "https://localhost:8080/",
          "height": 284
        },
        "id": "yEb46xt58Vlw",
        "outputId": "f9b563e7-5d26-4c21-9189-51686e3e22ad"
      },
      "source": [
        "df.describe()"
      ],
      "execution_count": 6,
      "outputs": [
        {
          "output_type": "execute_result",
          "data": {
            "text/html": [
              "<div>\n",
              "<style scoped>\n",
              "    .dataframe tbody tr th:only-of-type {\n",
              "        vertical-align: middle;\n",
              "    }\n",
              "\n",
              "    .dataframe tbody tr th {\n",
              "        vertical-align: top;\n",
              "    }\n",
              "\n",
              "    .dataframe thead th {\n",
              "        text-align: right;\n",
              "    }\n",
              "</style>\n",
              "<table border=\"1\" class=\"dataframe\">\n",
              "  <thead>\n",
              "    <tr style=\"text-align: right;\">\n",
              "      <th></th>\n",
              "      <th>Sample</th>\n",
              "      <th>Height</th>\n",
              "      <th>Weight</th>\n",
              "      <th>Age</th>\n",
              "    </tr>\n",
              "  </thead>\n",
              "  <tbody>\n",
              "    <tr>\n",
              "      <th>count</th>\n",
              "      <td>25.000000</td>\n",
              "      <td>25.000000</td>\n",
              "      <td>25.000000</td>\n",
              "      <td>25.000000</td>\n",
              "    </tr>\n",
              "    <tr>\n",
              "      <th>mean</th>\n",
              "      <td>13.000000</td>\n",
              "      <td>5.596400</td>\n",
              "      <td>69.440000</td>\n",
              "      <td>26.320000</td>\n",
              "    </tr>\n",
              "    <tr>\n",
              "      <th>std</th>\n",
              "      <td>7.359801</td>\n",
              "      <td>0.334152</td>\n",
              "      <td>10.657861</td>\n",
              "      <td>3.387723</td>\n",
              "    </tr>\n",
              "    <tr>\n",
              "      <th>min</th>\n",
              "      <td>1.000000</td>\n",
              "      <td>5.000000</td>\n",
              "      <td>52.000000</td>\n",
              "      <td>22.000000</td>\n",
              "    </tr>\n",
              "    <tr>\n",
              "      <th>25%</th>\n",
              "      <td>7.000000</td>\n",
              "      <td>5.400000</td>\n",
              "      <td>61.000000</td>\n",
              "      <td>24.000000</td>\n",
              "    </tr>\n",
              "    <tr>\n",
              "      <th>50%</th>\n",
              "      <td>13.000000</td>\n",
              "      <td>5.600000</td>\n",
              "      <td>70.000000</td>\n",
              "      <td>26.000000</td>\n",
              "    </tr>\n",
              "    <tr>\n",
              "      <th>75%</th>\n",
              "      <td>19.000000</td>\n",
              "      <td>5.900000</td>\n",
              "      <td>79.000000</td>\n",
              "      <td>29.000000</td>\n",
              "    </tr>\n",
              "    <tr>\n",
              "      <th>max</th>\n",
              "      <td>25.000000</td>\n",
              "      <td>6.100000</td>\n",
              "      <td>88.000000</td>\n",
              "      <td>36.000000</td>\n",
              "    </tr>\n",
              "  </tbody>\n",
              "</table>\n",
              "</div>"
            ],
            "text/plain": [
              "          Sample     Height     Weight        Age\n",
              "count  25.000000  25.000000  25.000000  25.000000\n",
              "mean   13.000000   5.596400  69.440000  26.320000\n",
              "std     7.359801   0.334152  10.657861   3.387723\n",
              "min     1.000000   5.000000  52.000000  22.000000\n",
              "25%     7.000000   5.400000  61.000000  24.000000\n",
              "50%    13.000000   5.600000  70.000000  26.000000\n",
              "75%    19.000000   5.900000  79.000000  29.000000\n",
              "max    25.000000   6.100000  88.000000  36.000000"
            ]
          },
          "metadata": {
            "tags": []
          },
          "execution_count": 6
        }
      ]
    },
    {
      "cell_type": "code",
      "metadata": {
        "id": "J4rQ0-ll8sFG"
      },
      "source": [
        "df.Weight = df.Weight.astype(float)"
      ],
      "execution_count": 7,
      "outputs": []
    },
    {
      "cell_type": "code",
      "metadata": {
        "colab": {
          "base_uri": "https://localhost:8080/"
        },
        "id": "fEWk_kqE8xQE",
        "outputId": "da93eff2-d1f7-4a4f-8099-d553339ecfc0"
      },
      "source": [
        "# Convert Gender column data type as String for easy Processing in next step.\n",
        "df.Gender.astype(str)"
      ],
      "execution_count": 8,
      "outputs": [
        {
          "output_type": "execute_result",
          "data": {
            "text/plain": [
              "0       Male\n",
              "1       Male\n",
              "2     Female\n",
              "3       Male\n",
              "4       Male\n",
              "5     female\n",
              "6       Male\n",
              "7       male\n",
              "8     female\n",
              "9       Male\n",
              "10      male\n",
              "11    female\n",
              "12      male\n",
              "13      male\n",
              "14      Male\n",
              "15    Female\n",
              "16      Male\n",
              "17      Male\n",
              "18      Male\n",
              "19    female\n",
              "20    Female\n",
              "21      Male\n",
              "22    Female\n",
              "23    Female\n",
              "24      Male\n",
              "Name: Gender, dtype: object"
            ]
          },
          "metadata": {
            "tags": []
          },
          "execution_count": 8
        }
      ]
    },
    {
      "cell_type": "code",
      "metadata": {
        "id": "mABhuN5m89vp"
      },
      "source": [
        "# Make all wordds in gender column of same case, let it be Upper Case\n",
        "df['Gender'] = df['Gender'].apply(lambda x: x.upper())"
      ],
      "execution_count": 9,
      "outputs": []
    },
    {
      "cell_type": "markdown",
      "metadata": {
        "id": "jCXJK8gM9LKQ"
      },
      "source": [
        "To categoriesed Gender Column have two classes. So need to do Label Encoding"
      ]
    },
    {
      "cell_type": "code",
      "metadata": {
        "id": "HUuMSAdB9JEK"
      },
      "source": [
        "from sklearn.preprocessing import LabelEncoder\n",
        "LE = LabelEncoder()\n",
        "df['Gender'] = LE.fit_transform(df['Gender'])"
      ],
      "execution_count": 11,
      "outputs": []
    },
    {
      "cell_type": "code",
      "metadata": {
        "colab": {
          "base_uri": "https://localhost:8080/",
          "height": 787
        },
        "id": "bdW4OVsF9nsK",
        "outputId": "67fab1a1-c593-4182-cead-5266ae97c850"
      },
      "source": [
        "df"
      ],
      "execution_count": 13,
      "outputs": [
        {
          "output_type": "execute_result",
          "data": {
            "text/html": [
              "<div>\n",
              "<style scoped>\n",
              "    .dataframe tbody tr th:only-of-type {\n",
              "        vertical-align: middle;\n",
              "    }\n",
              "\n",
              "    .dataframe tbody tr th {\n",
              "        vertical-align: top;\n",
              "    }\n",
              "\n",
              "    .dataframe thead th {\n",
              "        text-align: right;\n",
              "    }\n",
              "</style>\n",
              "<table border=\"1\" class=\"dataframe\">\n",
              "  <thead>\n",
              "    <tr style=\"text-align: right;\">\n",
              "      <th></th>\n",
              "      <th>Sample</th>\n",
              "      <th>Height</th>\n",
              "      <th>Weight</th>\n",
              "      <th>Age</th>\n",
              "      <th>Gender</th>\n",
              "    </tr>\n",
              "  </thead>\n",
              "  <tbody>\n",
              "    <tr>\n",
              "      <th>0</th>\n",
              "      <td>1</td>\n",
              "      <td>5.70</td>\n",
              "      <td>68.0</td>\n",
              "      <td>22</td>\n",
              "      <td>1</td>\n",
              "    </tr>\n",
              "    <tr>\n",
              "      <th>1</th>\n",
              "      <td>2</td>\n",
              "      <td>5.60</td>\n",
              "      <td>67.0</td>\n",
              "      <td>29</td>\n",
              "      <td>1</td>\n",
              "    </tr>\n",
              "    <tr>\n",
              "      <th>2</th>\n",
              "      <td>3</td>\n",
              "      <td>5.60</td>\n",
              "      <td>52.0</td>\n",
              "      <td>23</td>\n",
              "      <td>0</td>\n",
              "    </tr>\n",
              "    <tr>\n",
              "      <th>3</th>\n",
              "      <td>4</td>\n",
              "      <td>5.90</td>\n",
              "      <td>80.0</td>\n",
              "      <td>26</td>\n",
              "      <td>1</td>\n",
              "    </tr>\n",
              "    <tr>\n",
              "      <th>4</th>\n",
              "      <td>5</td>\n",
              "      <td>5.50</td>\n",
              "      <td>70.0</td>\n",
              "      <td>30</td>\n",
              "      <td>1</td>\n",
              "    </tr>\n",
              "    <tr>\n",
              "      <th>5</th>\n",
              "      <td>6</td>\n",
              "      <td>5.00</td>\n",
              "      <td>54.0</td>\n",
              "      <td>29</td>\n",
              "      <td>0</td>\n",
              "    </tr>\n",
              "    <tr>\n",
              "      <th>6</th>\n",
              "      <td>7</td>\n",
              "      <td>5.50</td>\n",
              "      <td>70.0</td>\n",
              "      <td>22</td>\n",
              "      <td>1</td>\n",
              "    </tr>\n",
              "    <tr>\n",
              "      <th>7</th>\n",
              "      <td>8</td>\n",
              "      <td>5.10</td>\n",
              "      <td>82.0</td>\n",
              "      <td>25</td>\n",
              "      <td>1</td>\n",
              "    </tr>\n",
              "    <tr>\n",
              "      <th>8</th>\n",
              "      <td>9</td>\n",
              "      <td>5.20</td>\n",
              "      <td>54.0</td>\n",
              "      <td>25</td>\n",
              "      <td>0</td>\n",
              "    </tr>\n",
              "    <tr>\n",
              "      <th>9</th>\n",
              "      <td>10</td>\n",
              "      <td>6.00</td>\n",
              "      <td>73.0</td>\n",
              "      <td>22</td>\n",
              "      <td>1</td>\n",
              "    </tr>\n",
              "    <tr>\n",
              "      <th>10</th>\n",
              "      <td>11</td>\n",
              "      <td>5.11</td>\n",
              "      <td>79.0</td>\n",
              "      <td>25</td>\n",
              "      <td>1</td>\n",
              "    </tr>\n",
              "    <tr>\n",
              "      <th>11</th>\n",
              "      <td>12</td>\n",
              "      <td>5.40</td>\n",
              "      <td>66.0</td>\n",
              "      <td>30</td>\n",
              "      <td>0</td>\n",
              "    </tr>\n",
              "    <tr>\n",
              "      <th>12</th>\n",
              "      <td>13</td>\n",
              "      <td>5.80</td>\n",
              "      <td>88.0</td>\n",
              "      <td>26</td>\n",
              "      <td>1</td>\n",
              "    </tr>\n",
              "    <tr>\n",
              "      <th>13</th>\n",
              "      <td>14</td>\n",
              "      <td>6.10</td>\n",
              "      <td>83.0</td>\n",
              "      <td>23</td>\n",
              "      <td>1</td>\n",
              "    </tr>\n",
              "    <tr>\n",
              "      <th>14</th>\n",
              "      <td>15</td>\n",
              "      <td>5.90</td>\n",
              "      <td>75.0</td>\n",
              "      <td>27</td>\n",
              "      <td>1</td>\n",
              "    </tr>\n",
              "    <tr>\n",
              "      <th>15</th>\n",
              "      <td>16</td>\n",
              "      <td>5.60</td>\n",
              "      <td>61.0</td>\n",
              "      <td>30</td>\n",
              "      <td>0</td>\n",
              "    </tr>\n",
              "    <tr>\n",
              "      <th>16</th>\n",
              "      <td>17</td>\n",
              "      <td>6.00</td>\n",
              "      <td>82.0</td>\n",
              "      <td>22</td>\n",
              "      <td>1</td>\n",
              "    </tr>\n",
              "    <tr>\n",
              "      <th>17</th>\n",
              "      <td>18</td>\n",
              "      <td>5.10</td>\n",
              "      <td>56.0</td>\n",
              "      <td>36</td>\n",
              "      <td>1</td>\n",
              "    </tr>\n",
              "    <tr>\n",
              "      <th>18</th>\n",
              "      <td>19</td>\n",
              "      <td>6.10</td>\n",
              "      <td>82.0</td>\n",
              "      <td>27</td>\n",
              "      <td>1</td>\n",
              "    </tr>\n",
              "    <tr>\n",
              "      <th>19</th>\n",
              "      <td>20</td>\n",
              "      <td>5.20</td>\n",
              "      <td>66.0</td>\n",
              "      <td>30</td>\n",
              "      <td>0</td>\n",
              "    </tr>\n",
              "    <tr>\n",
              "      <th>20</th>\n",
              "      <td>21</td>\n",
              "      <td>5.60</td>\n",
              "      <td>66.0</td>\n",
              "      <td>24</td>\n",
              "      <td>0</td>\n",
              "    </tr>\n",
              "    <tr>\n",
              "      <th>21</th>\n",
              "      <td>22</td>\n",
              "      <td>5.70</td>\n",
              "      <td>78.0</td>\n",
              "      <td>26</td>\n",
              "      <td>1</td>\n",
              "    </tr>\n",
              "    <tr>\n",
              "      <th>22</th>\n",
              "      <td>23</td>\n",
              "      <td>5.50</td>\n",
              "      <td>54.0</td>\n",
              "      <td>25</td>\n",
              "      <td>0</td>\n",
              "    </tr>\n",
              "    <tr>\n",
              "      <th>23</th>\n",
              "      <td>24</td>\n",
              "      <td>5.90</td>\n",
              "      <td>70.0</td>\n",
              "      <td>28</td>\n",
              "      <td>0</td>\n",
              "    </tr>\n",
              "    <tr>\n",
              "      <th>24</th>\n",
              "      <td>25</td>\n",
              "      <td>5.80</td>\n",
              "      <td>60.0</td>\n",
              "      <td>26</td>\n",
              "      <td>1</td>\n",
              "    </tr>\n",
              "  </tbody>\n",
              "</table>\n",
              "</div>"
            ],
            "text/plain": [
              "    Sample  Height  Weight  Age  Gender\n",
              "0        1    5.70    68.0   22       1\n",
              "1        2    5.60    67.0   29       1\n",
              "2        3    5.60    52.0   23       0\n",
              "3        4    5.90    80.0   26       1\n",
              "4        5    5.50    70.0   30       1\n",
              "5        6    5.00    54.0   29       0\n",
              "6        7    5.50    70.0   22       1\n",
              "7        8    5.10    82.0   25       1\n",
              "8        9    5.20    54.0   25       0\n",
              "9       10    6.00    73.0   22       1\n",
              "10      11    5.11    79.0   25       1\n",
              "11      12    5.40    66.0   30       0\n",
              "12      13    5.80    88.0   26       1\n",
              "13      14    6.10    83.0   23       1\n",
              "14      15    5.90    75.0   27       1\n",
              "15      16    5.60    61.0   30       0\n",
              "16      17    6.00    82.0   22       1\n",
              "17      18    5.10    56.0   36       1\n",
              "18      19    6.10    82.0   27       1\n",
              "19      20    5.20    66.0   30       0\n",
              "20      21    5.60    66.0   24       0\n",
              "21      22    5.70    78.0   26       1\n",
              "22      23    5.50    54.0   25       0\n",
              "23      24    5.90    70.0   28       0\n",
              "24      25    5.80    60.0   26       1"
            ]
          },
          "metadata": {
            "tags": []
          },
          "execution_count": 13
        }
      ]
    },
    {
      "cell_type": "code",
      "metadata": {
        "colab": {
          "base_uri": "https://localhost:8080/"
        },
        "id": "ehuUckKA9xzr",
        "outputId": "a16828c6-dbbe-4a3f-8c3f-5fc955d7dd8b"
      },
      "source": [
        "# Now need to convert all data items to float type\n",
        "df.gender = df.Gender.astype(float)"
      ],
      "execution_count": 14,
      "outputs": [
        {
          "output_type": "stream",
          "text": [
            "/usr/local/lib/python3.7/dist-packages/ipykernel_launcher.py:2: UserWarning: Pandas doesn't allow columns to be created via a new attribute name - see https://pandas.pydata.org/pandas-docs/stable/indexing.html#attribute-access\n",
            "  \n"
          ],
          "name": "stderr"
        }
      ]
    },
    {
      "cell_type": "code",
      "metadata": {
        "colab": {
          "base_uri": "https://localhost:8080/"
        },
        "id": "Xx46g5ms94fE",
        "outputId": "a6292c34-acdc-44c2-a1dd-d46b9a14669c"
      },
      "source": [
        "X = df[['Height','Weight']]\n",
        "y = df['Gender']\n",
        "\n",
        "X = np.c_[np.ones((X.shape[0], 1)), X]\n",
        "y = y[:, np.newaxis] # make y 2 d"
      ],
      "execution_count": 15,
      "outputs": [
        {
          "output_type": "stream",
          "text": [
            "/usr/local/lib/python3.7/dist-packages/ipykernel_launcher.py:5: FutureWarning: Support for multi-dimensional indexing (e.g. `obj[:, None]`) is deprecated and will be removed in a future version.  Convert to a numpy array before indexing instead.\n",
            "  \"\"\"\n"
          ],
          "name": "stderr"
        }
      ]
    },
    {
      "cell_type": "markdown",
      "metadata": {
        "id": "NciWUA1F99Vu"
      },
      "source": [
        "# **LOSS FUNCTION-1**"
      ]
    },
    {
      "cell_type": "code",
      "metadata": {
        "id": "CpAuDY5N-lcy"
      },
      "source": [
        "from sklearn.model_selection import train_test_split\n",
        "X = df[['Height','Weight']]\n",
        "y = df['Gender']\n",
        "y = pd.to_numeric(y)\n",
        "X_train, X_test, y_train, y_test = train_test_split(X, y, test_size=0.20)"
      ],
      "execution_count": 18,
      "outputs": []
    },
    {
      "cell_type": "code",
      "metadata": {
        "id": "aeOAADs9-z8g"
      },
      "source": [
        "# Creating the logistic regression model\n",
        "# Helper function to normalize data\n",
        "def normalize(X):\n",
        "    return X - X.mean()\n",
        "\n",
        "# Method to make predictions\n",
        "def predict(X, b0, b1,b2):\n",
        "    x1 = X['Height'].astype(float)\n",
        "    x2 = X['Weight'].astype(float)\n",
        "    return np.array(1 / (1 + np.exp(-1*b0 + -1*b1*x1 + -1*b2*x2)) )\n",
        "\n",
        "# Method to train the model\n",
        "def logistic_regression(X, Y):\n",
        "    x1 = X['Height']\n",
        "    x2 = X['Weight']\n",
        "    x1 = normalize(x1)\n",
        "    x2 = normalize(x2) \n",
        "    # Initializing variables\n",
        "    b0 = 0\n",
        "    b1 = 0\n",
        "    b2 = 0\n",
        "    L = 0.001\n",
        "    epochs = 400\n",
        "    for epoch in range(epochs):\n",
        "        y_pred = predict(X, b0, b1,b2)\n",
        "        D_b0 = -2 * sum((Y - y_pred) * y_pred * (1 - y_pred))  # Derivative of loss wrt b0\n",
        "        D_b1 = -2 * sum(x1 * (Y - y_pred) * y_pred * (1 - y_pred))  # Derivative of loss wrt b1\n",
        "        D_b2 = -2 * sum(x2* (Y - y_pred) * y_pred * (1 - y_pred))\n",
        "        # Update b0 and b1\n",
        "        b0 = b0 - L * D_b0\n",
        "        b1 = b1 - L * D_b1\n",
        "        b2 = b2 - L*D_b2\n",
        "    return b0, b1, b2"
      ],
      "execution_count": 19,
      "outputs": []
    },
    {
      "cell_type": "code",
      "metadata": {
        "colab": {
          "base_uri": "https://localhost:8080/"
        },
        "id": "3jkslsOL-8BU",
        "outputId": "41c0ddb0-508b-4877-9d0f-02267d9059c4"
      },
      "source": [
        "from math import exp\n",
        "b0, b1, b2 = logistic_regression(X_train, y_train)\n",
        "\n",
        "# Making predictions\n",
        "X_test_norm = normalize(X_test)\n",
        "y_pred = predict(X_test_norm, b0, b1,b2)\n",
        "y_pred = [1 if p >= 0.5 else 0 for p in y_pred]\n",
        "\n",
        "# The accuracy\n",
        "accuracy = 0\n",
        "for i in range(len(y_pred)):\n",
        "    if y_pred[i] == y_test.iloc[i]:\n",
        "        accuracy += 1\n",
        "print(f\"Accuracy = {accuracy / len(y_pred)}\")"
      ],
      "execution_count": 21,
      "outputs": [
        {
          "output_type": "stream",
          "text": [
            "Accuracy = 0.8\n"
          ],
          "name": "stdout"
        }
      ]
    },
    {
      "cell_type": "code",
      "metadata": {
        "id": "eXACkOhvaDIx"
      },
      "source": [
        "from sklearn.linear_model import LinearRegression\n",
        "from sklearn.naive_bayes import GaussianNB\n",
        "from sklearn.tree import DecisionTreeClassifier\n",
        "from sklearn.model_selection import cross_val_score\n",
        "from sklearn.model_selection import KFold"
      ],
      "execution_count": 22,
      "outputs": []
    },
    {
      "cell_type": "code",
      "metadata": {
        "id": "4SiBqKfLZNPx"
      },
      "source": [
        "def linear_regression():\n",
        "\tx = tf.placeholder(tf.float32, shape=(None, ), name='x')\n",
        "\ty = tf.placeholder(tf.float32, shape=(None, ), name='y')\n",
        "\n",
        "\twith tf.variable_scope('lreg') as scope:\n",
        "\t\tw = tf.Variable(np.random.normal(), name='W')\n",
        "\t\tb = tf.Variable(np.random.normal(), name='b')\n",
        "\t\t\n",
        "    # element-wise multiplication and then addition\n",
        "\t\ty_pred = tf.add(tf.multiply(w, x), b)\n",
        "  \n",
        "    # calculate mean square error (MSE)\n",
        "\t\tloss = tf.reduce_mean(tf.square(y_pred - y))\n",
        "\n",
        "\treturn x, y, y_pred, loss"
      ],
      "execution_count": 23,
      "outputs": []
    },
    {
      "cell_type": "code",
      "metadata": {
        "colab": {
          "base_uri": "https://localhost:8080/",
          "height": 451
        },
        "id": "xub75W_Pb2Zj",
        "outputId": "786e8af3-2fb9-4cc4-ba52-9fc9ebc2be42"
      },
      "source": [
        "def run():\n",
        "\tx_batch, y_batch = feat,lab\n",
        "\n",
        "\tx, y, y_pred, loss = linear_regression()\n",
        "\n",
        "\toptimizer = tf.train.GradientDescentOptimizer(0.03)\n",
        "\ttrain_op = optimizer.minimize(loss)\n",
        "\n",
        "\twith tf.Session() as session:\n",
        "\t\tsession.run(tf.global_variables_initializer())\n",
        "\n",
        "\t\tfeed_dict = {x: x_batch, y: y_batch}\n",
        "\t\t\n",
        "\t\tfor i in range(10):\n",
        "\t\t\t_ = session.run(train_op, feed_dict)\n",
        "\t\t\tprint(i, \"loss:\", loss.eval(feed_dict))\n",
        "\n",
        "\t\tprint('Predicting')\n",
        "\t\ty_pred_batch = session.run(y_pred, {x : x_batch})\n",
        "\n",
        "\tplt.scatter(x_batch, y_batch)\n",
        "\tplt.plot(x_batch, y_pred_batch, color='red')\n",
        "\t#plt.xlim(0, 2)\n",
        "\t#plt.ylim(0, 2)\n",
        "\tplt.savefig('plot.png')\n",
        "\n",
        "if __name__ == \"__main__\":\n",
        "\trun()"
      ],
      "execution_count": 24,
      "outputs": [
        {
          "output_type": "stream",
          "text": [
            "0 loss: 3650.1526\n",
            "1 loss: 3271.4941\n",
            "2 loss: 2933.0466\n",
            "3 loss: 2630.5403\n",
            "4 loss: 2360.1565\n",
            "5 loss: 2118.4854\n",
            "6 loss: 1902.4772\n",
            "7 loss: 1709.4075\n",
            "8 loss: 1536.8397\n",
            "9 loss: 1382.5975\n",
            "Predicting\n"
          ],
          "name": "stdout"
        },
        {
          "output_type": "display_data",
          "data": {
            "image/png": "[encoded data removed]",
            "text/plain": [
              "<Figure size 432x288 with 1 Axes>"
            ]
          },
          "metadata": {
            "tags": [],
            "needs_background": "light"
          }
        }
      ]
    }
  ]
}